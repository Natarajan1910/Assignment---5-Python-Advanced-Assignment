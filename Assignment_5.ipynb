{
 "cells": [
  {
   "cell_type": "code",
   "execution_count": null,
   "id": "ac046677",
   "metadata": {},
   "outputs": [],
   "source": [
    "Q1. What is the meaning of multiple inheritance?\n",
    "\n",
    "Ans: \n",
    "    \n",
    "Multiple Inheritance is a feature of an object-oriented concept, where a class can inherit properties of more than one parent class. \n",
    "The problem occurs when there exist methods with the same signature in both the superclasses and subclass\n"
   ]
  },
  {
   "cell_type": "code",
   "execution_count": null,
   "id": "f8f24ca5",
   "metadata": {},
   "outputs": [],
   "source": [
    "Q2. What is the concept of delegation?\n",
    "\n",
    "Ans:\n",
    "    \n",
    "Delegation is an object oriented technique (also called a design pattern). \n",
    "Let's say you have an object x and want to change the behaviour of just one of its methods. You can create a new class that provides a new implementation of the method you're interested in changing and delegates all other methods to the corresponding method of x.\n"
   ]
  },
  {
   "cell_type": "code",
   "execution_count": null,
   "id": "62f1c948",
   "metadata": {},
   "outputs": [],
   "source": [
    "Q3. What is the concept of composition?\n",
    "\n",
    "Ans:\n",
    "    \n",
    "Composition is a concept that models a has a relationship. It enables creating complex types by combining objects of other types. This means that a class Composite can contain an object of another class Component . \n",
    "This relationship means that a Composite has a Component .\n"
   ]
  },
  {
   "cell_type": "code",
   "execution_count": null,
   "id": "a145a8d4",
   "metadata": {},
   "outputs": [],
   "source": [
    "Q4. What are bound methods and how do we use them?\n",
    "\n",
    "Ans: \n",
    "    \n",
    "A bound method is the one which is dependent on the instance of the class as the first argument. It passes the instance as the first argument which is used to access the variables and functions. \n"
   ]
  },
  {
   "cell_type": "code",
   "execution_count": null,
   "id": "e92fff87",
   "metadata": {},
   "outputs": [],
   "source": [
    "Q5. What is the purpose of pseudoprivate attributes?\n",
    "\n",
    "Ans: \n",
    "    \n",
    "This is sometimes misleadingly called private attributes really, it's just a way to localize a name to the class that created it, and does not prevent access by code outside the class. That is, this feature is mostly intended to avoid namespace collisions in instances, not to restrict access to names in general."
   ]
  }
 ],
 "metadata": {
  "kernelspec": {
   "display_name": "Python 3",
   "language": "python",
   "name": "python3"
  },
  "language_info": {
   "codemirror_mode": {
    "name": "ipython",
    "version": 3
   },
   "file_extension": ".py",
   "mimetype": "text/x-python",
   "name": "python",
   "nbconvert_exporter": "python",
   "pygments_lexer": "ipython3",
   "version": "3.8.8"
  }
 },
 "nbformat": 4,
 "nbformat_minor": 5
}
